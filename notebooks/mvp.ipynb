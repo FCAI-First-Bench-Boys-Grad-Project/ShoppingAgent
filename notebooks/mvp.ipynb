{
 "cells": [
  {
   "cell_type": "code",
   "execution_count": null,
   "id": "21f2ccd6",
   "metadata": {},
   "outputs": [],
   "source": [
    "import os\n",
    "os.chdir(\"..\")\n",
    "print(os.getcwd())\n",
    "\n",
    "import dotenv\n",
    "dotenv.load_dotenv()"
   ]
  },
  {
   "cell_type": "code",
   "execution_count": null,
   "id": "d294db9d",
   "metadata": {},
   "outputs": [],
   "source": [
    "from src.llm_client import *\n",
    "from src.google_search import *"
   ]
  },
  {
   "cell_type": "code",
   "execution_count": null,
   "id": "a2d64ab4",
   "metadata": {},
   "outputs": [],
   "source": [
    "llm_client = NVIClient(api_key=os.environ[\"NVIDIA_API_KEY\"])"
   ]
  },
  {
   "cell_type": "code",
   "execution_count": null,
   "id": "41bedbd5",
   "metadata": {},
   "outputs": [],
   "source": [
    "async def search_urls(query: str, max_results: int = 10) -> List[str]:\n",
    "    \"\"\"Simple function to get URLs from Google search\"\"\"\n",
    "    async with GoogleURLScraper(headless=True) as scraper:\n",
    "        urls = await scraper.get_search_urls(query, max_results)\n",
    "        return urls"
   ]
  },
  {
   "cell_type": "code",
   "execution_count": null,
   "id": "58ae74f2",
   "metadata": {},
   "outputs": [],
   "source": [
    "\n",
    "urls = asyncio.run(search_urls(\"OpenAI GPT-4\", max_results=5))"
   ]
  },
  {
   "cell_type": "code",
   "execution_count": null,
   "id": "3c9b5d5c",
   "metadata": {},
   "outputs": [],
   "source": []
  }
 ],
 "metadata": {
  "kernelspec": {
   "display_name": "shopping-agent",
   "language": "python",
   "name": "python3"
  },
  "language_info": {
   "codemirror_mode": {
    "name": "ipython",
    "version": 3
   },
   "file_extension": ".py",
   "mimetype": "text/x-python",
   "name": "python",
   "nbconvert_exporter": "python",
   "pygments_lexer": "ipython3",
   "version": "3.11.9"
  }
 },
 "nbformat": 4,
 "nbformat_minor": 5
}
